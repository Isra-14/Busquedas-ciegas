{
  "nbformat": 4,
  "nbformat_minor": 0,
  "metadata": {
    "colab": {
      "name": "arbol_decision.ipynb",
      "provenance": [],
      "collapsed_sections": [],
      "include_colab_link": true
    },
    "kernelspec": {
      "name": "python3",
      "display_name": "Python 3"
    },
    "language_info": {
      "name": "python"
    }
  },
  "cells": [
    {
      "cell_type": "markdown",
      "metadata": {
        "id": "view-in-github",
        "colab_type": "text"
      },
      "source": [
        "<a href=\"https://colab.research.google.com/github/Isra-14/Busquedas-ciegas/blob/master/arbol_decision.ipynb\" target=\"_parent\"><img src=\"https://colab.research.google.com/assets/colab-badge.svg\" alt=\"Open In Colab\"/></a>"
      ]
    },
    {
      "cell_type": "code",
      "execution_count": 1,
      "metadata": {
        "id": "3ALzbPjZQyr3"
      },
      "outputs": [],
      "source": [
        "import pandas as pd\n",
        "import numpy as np\n",
        "\n",
        "peliculas = pd.read_csv('peliculas.csv').drop(columns=['Movie'])\n",
        "peliculas=peliculas.dropna()\n",
        "var_objetivo = 'Budget'\n",
        "Y = peliculas[var_objetivo]\n",
        "var_independientes = peliculas.drop(var_objetivo, axis=1).columns\n",
        "X = peliculas.drop(var_objetivo, axis=1)"
      ]
    },
    {
      "cell_type": "markdown",
      "source": [
        "# Nueva sección"
      ],
      "metadata": {
        "id": "lyHOZ0XTxVKV"
      }
    },
    {
      "cell_type": "code",
      "source": [
        "!pip install category_encoders"
      ],
      "metadata": {
        "colab": {
          "base_uri": "https://localhost:8080/"
        },
        "id": "uPluway4U2Mr",
        "outputId": "450d9814-bd4c-4f6c-89bf-88ffb93e5458"
      },
      "execution_count": 2,
      "outputs": [
        {
          "output_type": "stream",
          "name": "stdout",
          "text": [
            "Collecting category_encoders\n",
            "  Downloading category_encoders-2.4.0-py2.py3-none-any.whl (86 kB)\n",
            "\u001b[?25l\r\u001b[K     |███▉                            | 10 kB 20.3 MB/s eta 0:00:01\r\u001b[K     |███████▋                        | 20 kB 15.9 MB/s eta 0:00:01\r\u001b[K     |███████████▍                    | 30 kB 10.7 MB/s eta 0:00:01\r\u001b[K     |███████████████▏                | 40 kB 9.4 MB/s eta 0:00:01\r\u001b[K     |███████████████████             | 51 kB 4.4 MB/s eta 0:00:01\r\u001b[K     |██████████████████████▊         | 61 kB 5.2 MB/s eta 0:00:01\r\u001b[K     |██████████████████████████▌     | 71 kB 5.7 MB/s eta 0:00:01\r\u001b[K     |██████████████████████████████▎ | 81 kB 5.9 MB/s eta 0:00:01\r\u001b[K     |████████████████████████████████| 86 kB 2.7 MB/s \n",
            "\u001b[?25hRequirement already satisfied: statsmodels>=0.9.0 in /usr/local/lib/python3.7/dist-packages (from category_encoders) (0.10.2)\n",
            "Requirement already satisfied: patsy>=0.5.1 in /usr/local/lib/python3.7/dist-packages (from category_encoders) (0.5.2)\n",
            "Requirement already satisfied: scipy>=1.0.0 in /usr/local/lib/python3.7/dist-packages (from category_encoders) (1.4.1)\n",
            "Requirement already satisfied: pandas>=0.21.1 in /usr/local/lib/python3.7/dist-packages (from category_encoders) (1.3.5)\n",
            "Requirement already satisfied: numpy>=1.14.0 in /usr/local/lib/python3.7/dist-packages (from category_encoders) (1.21.6)\n",
            "Requirement already satisfied: scikit-learn>=0.20.0 in /usr/local/lib/python3.7/dist-packages (from category_encoders) (1.0.2)\n",
            "Requirement already satisfied: python-dateutil>=2.7.3 in /usr/local/lib/python3.7/dist-packages (from pandas>=0.21.1->category_encoders) (2.8.2)\n",
            "Requirement already satisfied: pytz>=2017.3 in /usr/local/lib/python3.7/dist-packages (from pandas>=0.21.1->category_encoders) (2022.1)\n",
            "Requirement already satisfied: six in /usr/local/lib/python3.7/dist-packages (from patsy>=0.5.1->category_encoders) (1.15.0)\n",
            "Requirement already satisfied: threadpoolctl>=2.0.0 in /usr/local/lib/python3.7/dist-packages (from scikit-learn>=0.20.0->category_encoders) (3.1.0)\n",
            "Requirement already satisfied: joblib>=0.11 in /usr/local/lib/python3.7/dist-packages (from scikit-learn>=0.20.0->category_encoders) (1.1.0)\n",
            "Installing collected packages: category-encoders\n",
            "Successfully installed category-encoders-2.4.0\n"
          ]
        }
      ]
    },
    {
      "cell_type": "code",
      "source": [
        "from category_encoders import OneHotEncoder\n",
        "\n",
        "# Codifica variables categoricas (no numeros) en un arreglo numerico one-hot"
      ],
      "metadata": {
        "id": "4yjlovAtWygU"
      },
      "execution_count": null,
      "outputs": []
    },
    {
      "cell_type": "code",
      "source": [
        "peliculas=OneHotEncoder().fit_transform(peliculas)\n",
        "\n",
        "y = var_objetivo\n",
        "# estableces la variable objetivo"
      ],
      "metadata": {
        "id": "-mS6fnxoT7xm"
      },
      "execution_count": null,
      "outputs": []
    },
    {
      "cell_type": "markdown",
      "source": [
        "Crear un modelo de arbol de decision de profundidad maxima 5, entrenar y graficar"
      ],
      "metadata": {
        "id": "HL4ciBWMXiLu"
      }
    },
    {
      "cell_type": "code",
      "source": [
        "var_independientes\n",
        "# estableces las variables independientes"
      ],
      "metadata": {
        "id": "vlNxUP14Xs87",
        "colab": {
          "base_uri": "https://localhost:8080/"
        },
        "outputId": "f7d67db2-e965-4ecc-f787-22ca4ef278be"
      },
      "execution_count": null,
      "outputs": [
        {
          "output_type": "execute_result",
          "data": {
            "text/plain": [
              "Index(['Year', 'Ratings', 'Genre', 'Gross', 'Screens', 'Sequel', 'Sentiment',\n",
              "       'Views', 'Likes', 'Dislikes', 'Comments', 'Aggregate Followers'],\n",
              "      dtype='object')"
            ]
          },
          "metadata": {},
          "execution_count": 15
        }
      ]
    },
    {
      "cell_type": "code",
      "source": [
        "from sklearn import tree"
      ],
      "metadata": {
        "id": "Wjl7nBZJegUU"
      },
      "execution_count": null,
      "outputs": []
    },
    {
      "cell_type": "code",
      "source": [
        "arbol = tree.DecisionTreeRegressor(max_depth=5).fit(X,Y)\n",
        "# construyes el arbol"
      ],
      "metadata": {
        "id": "w4IEZR6tYBZO"
      },
      "execution_count": null,
      "outputs": []
    },
    {
      "cell_type": "code",
      "source": [
        "tree.export_graphviz(arbol, out_file='arbol.dot, filled=true', feature_names=var_independientes, rounded=True, filled=True)\n",
        "# exporta el modelo a un archivo para visualizar el arbol"
      ],
      "metadata": {
        "id": "JRTSULE3etMZ"
      },
      "execution_count": null,
      "outputs": []
    },
    {
      "cell_type": "code",
      "source": [
        "#  muestras las variables mas importantes para el modelo\n",
        "arbol.feature_importances_"
      ],
      "metadata": {
        "colab": {
          "base_uri": "https://localhost:8080/"
        },
        "id": "fk8ekPXpgd8w",
        "outputId": "e2d8fc3a-dc3e-41c9-cf0f-0a8d56c0017a"
      },
      "execution_count": null,
      "outputs": [
        {
          "output_type": "execute_result",
          "data": {
            "text/plain": [
              "array([1.80370719e-02, 4.06657130e-02, 4.33867735e-02, 4.83568396e-02,\n",
              "       7.75246139e-01, 0.00000000e+00, 2.00470657e-02, 6.25144920e-03,\n",
              "       2.01351595e-04, 1.51616857e-02, 2.06126232e-02, 1.20332878e-02])"
            ]
          },
          "metadata": {},
          "execution_count": 19
        }
      ]
    },
    {
      "cell_type": "code",
      "source": [
        "sorted(zip(arbol.feature_importances_,var_independientes), reverse=True)"
      ],
      "metadata": {
        "colab": {
          "base_uri": "https://localhost:8080/"
        },
        "id": "vSgErV2ChTiM",
        "outputId": "06a55148-97bd-4032-9446-31372af4bc20"
      },
      "execution_count": null,
      "outputs": [
        {
          "output_type": "execute_result",
          "data": {
            "text/plain": [
              "[(0.7752461387924344, 'Screens'),\n",
              " (0.04835683964194512, 'Gross'),\n",
              " (0.043386773509400185, 'Genre'),\n",
              " (0.04066571298260188, 'Ratings'),\n",
              " (0.020612623156751244, 'Comments'),\n",
              " (0.02004706568595619, 'Sentiment'),\n",
              " (0.018037071877289774, 'Year'),\n",
              " (0.015161685719907139, 'Dislikes'),\n",
              " (0.012033287838804588, 'Aggregate Followers'),\n",
              " (0.006251449200259803, 'Views'),\n",
              " (0.0002013515946496979, 'Likes'),\n",
              " (0.0, 'Sequel')]"
            ]
          },
          "metadata": {},
          "execution_count": 20
        }
      ]
    }
  ]
}